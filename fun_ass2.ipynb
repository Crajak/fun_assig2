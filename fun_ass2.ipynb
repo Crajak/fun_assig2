{
 "cells": [
  {
   "cell_type": "markdown",
   "id": "afe10d3a-424f-4187-8804-9218d9302499",
   "metadata": {},
   "source": [
    "Q1. Create a python program to sort the given list of tuples based on integer value using a lambda function. [('Sachin Tendulkar', 34357), ('Ricky Ponting', 27483), ('Jack Kallis', 25534), ('Virat Kohli', 24936)]"
   ]
  },
  {
   "cell_type": "code",
   "execution_count": 1,
   "id": "7150399d-09e0-46f5-95e2-397475b34713",
   "metadata": {},
   "outputs": [
    {
     "name": "stdout",
     "output_type": "stream",
     "text": [
      "('Virat Kohli', 24936)\n",
      "('Jack Kallis', 25534)\n",
      "('Ricky Pointing', 27483)\n",
      "('Sachin Tendulkar', 34357)\n"
     ]
    }
   ],
   "source": [
    "#Ans Q1.\n",
    "l=[('Sachin Tendulkar',34357),('Ricky Pointing',27483),('Jack Kallis',25534),('Virat Kohli',24936)]\n",
    "data=sorted(l,key=lambda x:x[1])\n",
    "for i in data:\n",
    "    print(i)"
   ]
  },
  {
   "cell_type": "markdown",
   "id": "47f5d87b-2204-46c8-8e97-95743f0ba635",
   "metadata": {},
   "source": [
    "Q2. Write a Python Program to find the squares of all the numbers in the given list of integers using\n",
    "lambda and map functions.\n",
    "[1, 2, 3, 4, 5, 6, 7, 8, 9, 10]"
   ]
  },
  {
   "cell_type": "code",
   "execution_count": 4,
   "id": "9d3cc396-9753-4018-990f-bfd89685c438",
   "metadata": {},
   "outputs": [
    {
     "name": "stdout",
     "output_type": "stream",
     "text": [
      "[2, 4, 6, 8, 10, 12, 14, 16, 18, 20]\n"
     ]
    }
   ],
   "source": [
    "#Ans Q2.\n",
    "l=[1,2,3,4,5,6,7,8,9,10]\n",
    "squares= list(map(lambda x:x*2,l))\n",
    "print(squares)"
   ]
  },
  {
   "cell_type": "markdown",
   "id": "2a64a712-25ab-4269-971e-24522e556669",
   "metadata": {},
   "source": [
    "Q3. Write a python program to convert the given list of integers into a tuple of strings. Use map and\n",
    "lambda functions\n",
    "Given String: [1, 2, 3, 4, 5, 6, 7, 8, 9, 10]\n",
    "Expected output: ('1', '2', '3', '4', '5', '6', '7', '8', '9', '10')"
   ]
  },
  {
   "cell_type": "code",
   "execution_count": 7,
   "id": "671b0c48-e1a8-40cc-99ca-43afc6e0a045",
   "metadata": {},
   "outputs": [
    {
     "name": "stdout",
     "output_type": "stream",
     "text": [
      "('1', '2', '3', '4', '5', '6', '7', '8', '9', '10')\n"
     ]
    }
   ],
   "source": [
    "#Ans Q3.\n",
    "l=[1,2,3,4,5,6,7,8,9,10]\n",
    "strings=tuple(map(lambda x: str(x),l))\n",
    "print(strings)"
   ]
  },
  {
   "cell_type": "markdown",
   "id": "55006a14-551a-4711-afda-356b7150cb15",
   "metadata": {},
   "source": [
    "Q4. Write a python program using reduce function to compute the product of a list containing numbers\n",
    "from 1 to 25."
   ]
  },
  {
   "cell_type": "code",
   "execution_count": 10,
   "id": "9b5570dc-9df7-4d46-ae38-15449c085ba3",
   "metadata": {},
   "outputs": [
    {
     "name": "stdout",
     "output_type": "stream",
     "text": [
      "15511210043330985984000000\n"
     ]
    }
   ],
   "source": [
    "#Ans Q4.\n",
    "from functools import reduce\n",
    "l=list(range(1,26))\n",
    "product= lambda x,y:x*y\n",
    "prod=reduce(product,l)\n",
    "print(prod)"
   ]
  },
  {
   "cell_type": "markdown",
   "id": "056784aa-23a1-4ff8-b80c-8963a448215a",
   "metadata": {},
   "source": [
    "Q5. Write a python program to filter the numbers in a given list that are divisible by 2 and 3 using the\n",
    "filter function.\n",
    "[2, 3, 6, 9, 27, 60, 90, 120, 55, 46]"
   ]
  },
  {
   "cell_type": "code",
   "execution_count": 11,
   "id": "f5672d49-0714-4e07-a94f-23ee1ced2696",
   "metadata": {},
   "outputs": [
    {
     "name": "stdout",
     "output_type": "stream",
     "text": [
      "[6, 60, 90, 120]\n"
     ]
    }
   ],
   "source": [
    "#Ans Q5.\n",
    "l=[2,3,6,9,27,60,90,120,55,46]\n",
    "def ck(l):\n",
    "    return l %2==0 and l %3==0\n",
    "filter_no=list(filter(ck,l))\n",
    "print(filter_no)"
   ]
  },
  {
   "cell_type": "markdown",
   "id": "ef18a9bf-277d-45b8-8bc2-908516b0ba8f",
   "metadata": {},
   "source": [
    "Q6. Write a python program to find palindromes in the given list of strings using lambda and filter\n",
    "function.\n",
    "['python', 'php', 'aba', 'radar', 'level']"
   ]
  },
  {
   "cell_type": "code",
   "execution_count": 13,
   "id": "b99e35e3-6d39-4c71-894c-863a9626808b",
   "metadata": {},
   "outputs": [
    {
     "name": "stdout",
     "output_type": "stream",
     "text": [
      "['aba', 'radar', 'level']\n"
     ]
    }
   ],
   "source": [
    "#Ans Q6.\n",
    "strings=['python','aba','radar','level']\n",
    "a=lambda s: s==s[::-1]\n",
    "palindromes=list(filter(a,strings))\n",
    "print(palindromes)"
   ]
  },
  {
   "cell_type": "code",
   "execution_count": null,
   "id": "d574f952-82ae-4533-a044-d080f05da46c",
   "metadata": {},
   "outputs": [],
   "source": []
  }
 ],
 "metadata": {
  "kernelspec": {
   "display_name": "Python 3 (ipykernel)",
   "language": "python",
   "name": "python3"
  },
  "language_info": {
   "codemirror_mode": {
    "name": "ipython",
    "version": 3
   },
   "file_extension": ".py",
   "mimetype": "text/x-python",
   "name": "python",
   "nbconvert_exporter": "python",
   "pygments_lexer": "ipython3",
   "version": "3.10.8"
  }
 },
 "nbformat": 4,
 "nbformat_minor": 5
}
